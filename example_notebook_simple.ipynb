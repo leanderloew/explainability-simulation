{
 "cells": [
  {
   "cell_type": "markdown",
   "metadata": {
    "collapsed": true
   },
   "source": [
    "# Demo of Self Attention in Pytorch \n",
    "\n",
    "In this Notebook we want to test, that Self-Attention and Piece wise Feed Forward Neural Networks can solve a simple logical, deterministic problem. Furthermore, we want to attest to the degree, that the attention weights can \"explain\" the predictions. We see that this is the case for Piece Wise Feed Forward Neural Netowrks but it is not! the case for Self Attention Neural Networks. We conjegture, that this is due to the fact that the representation of Self Attention is dependend on all elements of the input sequence"
   ]
  },
  {
   "cell_type": "code",
   "execution_count": 1,
   "metadata": {
    "collapsed": true
   },
   "outputs": [],
   "source": [
    "import random\n",
    "import numpy as np\n",
    "from model_pytorch import *\n",
    "from sklearn.model_selection import train_test_split\n",
    "from torch.utils.data import Dataset,sampler,DataLoader\n",
    "\n",
    "import torch\n",
    "import torch.nn as nn\n",
    "from tensorboardX import SummaryWriter\n",
    "from sklearn.metrics import roc_auc_score\n"
   ]
  },
  {
   "cell_type": "code",
   "execution_count": 2,
   "metadata": {
    "collapsed": true
   },
   "outputs": [],
   "source": [
    "#We generate list of range \n",
    "all_data=[]\n",
    "all_label=[]\n",
    "for j in range(100000):\n",
    "    rand_list=[]\n",
    "    for j in range(random.randint(1,100)):\n",
    "        rand_list.append((random.randint(1,20),random.randint(1,20),random.random()))\n",
    "    \n",
    "    rand_list=np.array(rand_list)\n",
    "    \n",
    "    places_17_1=np.sum(rand_list[:,0:2]==[17, 1],axis=1)==2\n",
    "    places_18_9=np.sum(rand_list[:,0:2]==[18, 9],axis=1)==2\n",
    "     \n",
    "    \n",
    "    if (any(places_17_1) and any(places_18_9) and any(rand_list[places_17_1][:,2]>0.5)and any(rand_list[places_18_9][:,2]<0.5)):\n",
    "        #We include this for mislabeling \n",
    "        all_label.append(1) \n",
    "    else:\n",
    "        all_label.append(0)\n",
    "        \n",
    "    all_data.append(rand_list)"
   ]
  },
  {
   "cell_type": "code",
   "execution_count": 3,
   "metadata": {
    "collapsed": true
   },
   "outputs": [],
   "source": [
    "train_X,val_X,train_y,val_y = train_test_split(all_data, all_label, test_size=0.1, random_state=123)"
   ]
  },
  {
   "cell_type": "code",
   "execution_count": 4,
   "metadata": {
    "collapsed": true
   },
   "outputs": [],
   "source": [
    "class dummy_data(Dataset):\n",
    "    def __init__(self, input,output):     \n",
    "        \n",
    "        self.data=input\n",
    "        self.label=output\n",
    "        \n",
    "    def __len__(self):\n",
    "        return int(len(self.data))\n",
    "    \n",
    "    def __getitem__(self, index):\n",
    "        \n",
    "        X=self.data[index]\n",
    "        y=self.label[index]\n",
    "        \n",
    "        return X, y"
   ]
  },
  {
   "cell_type": "code",
   "execution_count": 5,
   "metadata": {
    "collapsed": true
   },
   "outputs": [],
   "source": [
    "train_ds=dummy_data(train_X,train_y)\n",
    "val_ds=dummy_data(val_X,val_y)"
   ]
  },
  {
   "cell_type": "code",
   "execution_count": 6,
   "metadata": {
    "collapsed": true
   },
   "outputs": [],
   "source": [
    "batch_size=32"
   ]
  },
  {
   "cell_type": "code",
   "execution_count": 7,
   "metadata": {
    "collapsed": true
   },
   "outputs": [],
   "source": [
    "#THe collate deffines how data gets batched \n",
    "\n",
    "def my_collate(batch):\n",
    "    \n",
    "    texts=([x[0] for x in batch])\n",
    "    labels=np.array(([x[1] for x in batch]))\n",
    "    batch_size=len(batch)\n",
    "    maxlen=np.max([len(x) for x in texts])\n",
    "    text_stack=np.zeros(shape=(batch_size,maxlen,3))\n",
    "    \n",
    "    for enu,txt in enumerate(texts):\n",
    "        text_stack[enu,0:len(txt),:]=txt\n",
    "\n",
    "    return torch.tensor(text_stack[:,:,0]).cuda(),torch.tensor(text_stack[:,:,1]).cuda(),torch.tensor(text_stack[:,:,2]).cuda(),torch.tensor(labels).cuda()"
   ]
  },
  {
   "cell_type": "code",
   "execution_count": 8,
   "metadata": {
    "collapsed": true
   },
   "outputs": [],
   "source": [
    "val_dl= DataLoader(dataset=val_ds,\n",
    "                      batch_size=batch_size,\n",
    "                      shuffle=False,\n",
    "                      collate_fn=my_collate\n",
    "                      )"
   ]
  },
  {
   "cell_type": "code",
   "execution_count": 9,
   "metadata": {
    "collapsed": true
   },
   "outputs": [],
   "source": [
    "train_dl= DataLoader(dataset=train_ds,\n",
    "                      batch_size=batch_size,\n",
    "                      shuffle=True,\n",
    "                      collate_fn=my_collate\n",
    "                      )"
   ]
  },
  {
   "cell_type": "code",
   "execution_count": 10,
   "metadata": {
    "collapsed": true
   },
   "outputs": [],
   "source": [
    "class simple_fraud_model(nn.Module):\n",
    "    def __init__(self, d_model=32,heads=1,nlay=1,dropout=0,SelfA=True,return_w=False):\n",
    "        \n",
    "        super(simple_fraud_model,self).__init__()\n",
    "        self.return_w=return_w\n",
    "        emb_d_1=int(d_model/2)\n",
    "        emb_d_2=int(d_model/2)\n",
    "        \n",
    "        self.embedding_1=nn.Embedding(num_embeddings=21,embedding_dim=emb_d_1)\n",
    "        self.embedding_2=nn.Embedding(num_embeddings=21,embedding_dim=emb_d_2-1)\n",
    "\n",
    "        \n",
    "        if SelfA==True:\n",
    "            self.encoder_layers=EncoderLayer(d_model=d_model,heads=heads,dropout=dropout,share_params=True)\n",
    "\n",
    "        if SelfA==False:\n",
    "            self.encoder_layers=FeedForward(d_model)\n",
    "\n",
    "\n",
    "        self.mula=multi_attention(input_dim=d_model,key_dim=d_model,nheads=1,return_weights=True,value_dim=d_model)\n",
    "\n",
    "        self.fully_con=nn.Linear(d_model,d_model*2)\n",
    "        self.relu=nn.ReLU()\n",
    "        self.final_fully_con=nn.Linear(d_model*2,1)\n",
    "        self.sig=nn.Sigmoid()\n",
    "        self.selfa=SelfA\n",
    "        \n",
    "        \n",
    "    def forward(self, x1,x2,x3,return_w):\n",
    "        e1=self.embedding_1(x1)\n",
    "        e2=self.embedding_2(x2)\n",
    "\n",
    "        cat=torch.cat([e1,e2,x3.unsqueeze(2)],dim=2)\n",
    "        if self.selfa==True:\n",
    "            \n",
    "            feat,w2=self.encoder_layers(cat)\n",
    "        else:\n",
    "            feat=self.encoder_layers(cat)\n",
    "\n",
    "        ag,weights=self.mula(feat)\n",
    "        fc=self.relu(self.fully_con(ag.squeeze()))\n",
    "        preds=self.sig(self.final_fully_con(fc))\n",
    "        if return_w==False:\n",
    "            return preds.squeeze()\n",
    "        if return_w==True:\n",
    "            if self.selfa==True:\n",
    "                #w2=w2.squeeze()\n",
    "                #w2=w2.permute((0,2,1))\n",
    "                #weights=torch.bmm(w2,weights)\n",
    "                return preds.squeeze(),torch.bmm(w2.squeeze(),weights)\n",
    "            else:\n",
    "                return preds.squeeze(),weights"
   ]
  },
  {
   "cell_type": "code",
   "execution_count": 14,
   "metadata": {
    "collapsed": true
   },
   "outputs": [],
   "source": [
    "sf=simple_fraud_model(d_model=64,SelfA=False).cuda()"
   ]
  },
  {
   "cell_type": "code",
   "execution_count": 15,
   "metadata": {
    "collapsed": true
   },
   "outputs": [],
   "source": [
    "batch=next(iter(train_dl))"
   ]
  },
  {
   "cell_type": "code",
   "execution_count": 16,
   "metadata": {},
   "outputs": [
    {
     "data": {
      "text/plain": [
       "tensor([0.7554, 0.7884, 0.7905, 0.7510, 0.7789, 0.7832, 0.7778, 0.6890, 0.6798,\n",
       "        0.7976, 0.7991, 0.8012, 0.7722, 0.7258, 0.8227, 0.7702, 0.8160, 0.8218,\n",
       "        0.6925, 0.7683, 0.8172, 0.8125, 0.7959, 0.7691, 0.7979, 0.7539, 0.7828,\n",
       "        0.8155, 0.7601, 0.7802, 0.7579, 0.8094], device='cuda:0',\n",
       "       grad_fn=<SqueezeBackward0>)"
      ]
     },
     "execution_count": 16,
     "metadata": {},
     "output_type": "execute_result"
    }
   ],
   "source": [
    "sf(batch[0].long(),batch[1].long(),batch[2].float(),False)"
   ]
  },
  {
   "cell_type": "code",
   "execution_count": 17,
   "metadata": {
    "collapsed": true
   },
   "outputs": [],
   "source": [
    "#A train and evaluation funciton\n",
    "def train_eval(atnm,train,opti,crit,eval_metrics,iterator,n_iter,writer):\n",
    "    \n",
    "    \n",
    "    '''\n",
    "    Args:\n",
    "    atnm: A Model to be trained/evalued\n",
    "    train: If we want to train/eval (If train we sub the gradient)\n",
    "    opti: An optimizer to be used\n",
    "    crit: A loss function to be used\n",
    "    eval_matrics: If we want to keep track of predictions during batch gen and in the end\n",
    "    calculate a metric on the whole data (aka the AUC)\n",
    "    iterator: The data generator as an iterator\n",
    "    n_iter: the current step to be updated\n",
    "    writer: the tensorboard writer used to keep trakc of training results\n",
    "    \n",
    "    \n",
    "    '''\n",
    "    \n",
    "    if train==False:\n",
    "        loss_val=[]\n",
    "        name1=\"val_loss\"\n",
    "        name2=\"val_roc\"  \n",
    "        atnm.eval()\n",
    "    else:\n",
    "        name1=\"train_loss\"\n",
    "        name2=\"train_roc\"\n",
    "        atnm.train()\n",
    "\n",
    "    if eval_metrics:\n",
    "        store_label=[]\n",
    "        store_preds=[]\n",
    "    #The epcoh \n",
    "    for batch in iterator:\n",
    "        #print(batch[0].shape[1])\n",
    "        opti.zero_grad()\n",
    "        #batch=ba\n",
    "        predictions=atnm(batch[0].long(),batch[1].long(),batch[2].float(),False)        #print(predictions)\n",
    "        loss = crit(predictions, batch[3].float().cuda())\n",
    "\n",
    "        if train==True:\n",
    "            loss.backward()\n",
    "            opti.step()\n",
    "            n_iter=n_iter+1\n",
    "            writer.add_scalar(name1,loss.cpu().detach().numpy(),n_iter)\n",
    "        #when we dont train we dont write during epoch but only at the end\n",
    "        #also we dont up the iter\n",
    "        if train==False:\n",
    "            loss_val.append(loss.cpu().detach().numpy())\n",
    "        if eval_metrics== True: \n",
    "            store_preds.append(predictions.cpu().detach().numpy())\n",
    "            store_label.append(batch[3].float().cpu().detach().numpy())\n",
    "            \n",
    "        del predictions\n",
    "        del loss\n",
    "### End of Batch\n",
    "    if train == False:\n",
    "        writer.add_scalar(name1,np.mean(loss_val),n_iter)\n",
    "\n",
    "    if eval_metrics== True: \n",
    "        store_preds=np.concatenate(store_preds)\n",
    "        store_label=np.concatenate(store_label)\n",
    "        roc=roc_auc_score(store_label,store_preds)\n",
    "        writer.add_scalar(name2,roc,n_iter)\n",
    "\n",
    "        return roc"
   ]
  },
  {
   "cell_type": "code",
   "execution_count": 18,
   "metadata": {
    "collapsed": true
   },
   "outputs": [],
   "source": [
    "#we set up a model and we use a BCE Loss and Adam optimizer\n",
    "sf=simple_fraud_model(SelfA=False,d_model=32).cuda()\n",
    "criterion=nn.BCELoss()\n",
    "optimizer = torch.optim.Adam(sf.parameters(), lr=5e-5)"
   ]
  },
  {
   "cell_type": "code",
   "execution_count": 19,
   "metadata": {
    "collapsed": true
   },
   "outputs": [],
   "source": [
    "#here we can use tensorboard to keep track of the training process \n",
    "writer = SummaryWriter(log_dir=\"logs/pff_noresidual__:____\")"
   ]
  },
  {
   "cell_type": "code",
   "execution_count": 20,
   "metadata": {
    "collapsed": true
   },
   "outputs": [],
   "source": [
    "max_epochs=60"
   ]
  },
  {
   "cell_type": "code",
   "execution_count": null,
   "metadata": {},
   "outputs": [
    {
     "name": "stdout",
     "output_type": "stream",
     "text": [
      "0.7263322254282479\n",
      "0.7356071258994119\n",
      "0.7590762993535192\n",
      "0.8206768873954491\n",
      "0.8600158880894115\n",
      "0.916916249680412\n",
      "0.9692510683370467\n",
      "0.9859929142773658\n",
      "0.9887847437817306\n",
      "0.9908848935315387\n",
      "0.9925170751305745\n",
      "0.9936105226633551\n",
      "0.9946377698235874\n",
      "0.995331732349611\n",
      "0.9959252529310786\n",
      "0.9964023521677199\n",
      "0.9970506592643997\n",
      "0.9976578764746703\n",
      "0.9983541217721612\n",
      "0.9989225318674896\n",
      "0.9992786442163702\n",
      "0.9994795281054824\n",
      "0.999376803389459\n",
      "0.9996461704225866\n",
      "0.9997443295956755\n",
      "0.9992352715584937\n",
      "0.9997740056247489\n",
      "0.9995206179918916\n",
      "0.9997192191095365\n",
      "0.9998698820263705\n",
      "0.9998470543116987\n",
      "0.9999132546842471\n",
      "0.9998949925125096\n",
      "0.9999269513130501\n",
      "0.9999155374557142\n",
      "0.9998584681690346\n",
      "0.9998584681690347\n",
      "0.9998790131122394\n",
      "0.9999474962562547\n"
     ]
    }
   ],
   "source": [
    "for j in range(max_epochs):\n",
    "    #atnm,train,opti,crit,eval_metrics,iterator\n",
    "    n_iter=(train_ds.__len__()/batch_size)*j\n",
    "    roc_t=train_eval(sf,True,optimizer,criterion,True\n",
    "                   ,iter(train_dl),n_iter=n_iter,writer=writer)\n",
    "    roc_v=train_eval(atnm=sf\n",
    "                     ,train=False\n",
    "                     ,opti=optimizer\n",
    "                     ,crit=criterion\n",
    "                     ,eval_metrics=True\n",
    "                     ,iterator=iter(val_dl)\n",
    "                    ,writer=writer\n",
    "                    ,n_iter=n_iter\n",
    "                   )\n",
    "    \n",
    "    print(roc_v)"
   ]
  },
  {
   "cell_type": "code",
   "execution_count": 34,
   "metadata": {
    "collapsed": true
   },
   "outputs": [],
   "source": [
    "it=iter(val_dl)"
   ]
  },
  {
   "cell_type": "markdown",
   "metadata": {},
   "source": [
    "# Explaining predictions\n",
    "\n",
    "In this loop we show that the model correctly recovers the \"reason\" for a fraud prediction as being the existence of one of the touple of problematic input elements. Here Self Attention generally performs much better. \n",
    "\n"
   ]
  },
  {
   "cell_type": "code",
   "execution_count": 35,
   "metadata": {},
   "outputs": [
    {
     "name": "stdout",
     "output_type": "stream",
     "text": [
      "[[ 9 18]\n",
      " [ 9 18]\n",
      " [ 9 18]]\n",
      "[[ 9 18]\n",
      " [ 9 18]\n",
      " [ 1 17]\n",
      " [ 9 18]]\n",
      "predicted wrong\n"
     ]
    }
   ],
   "source": [
    "for batch in it:\n",
    "    #We get both inputs\n",
    "    i1=batch[0].long()\n",
    "    i2=batch[1].long()\n",
    "    \n",
    "    #We get both prediction and attention weights \n",
    "    predictions,weights=sf(i1,i2,batch[2].float(),True)\n",
    "    #we put the predictions and weights to numpy, \n",
    "    preds_np=np.round(predictions.detach().cpu().numpy())\n",
    "    weights_np=weights.detach().cpu().numpy()\n",
    "    #We only select the elments we predicted as a \n",
    "    fraud_elem=np.where(preds_np>0.5)[0]\n",
    "    #A prediction check, that we are correct\n",
    "    if fraud_elem.size>0:\n",
    "        if not(all(fraud_elem == np.where(batch[3].cpu().numpy())[0])) : \n",
    "            print(\"predicted wrong\")\n",
    "            break\n",
    "        #if len(np.where(fraud_elem))>0:\n",
    "        i1=i1.detach().cpu().numpy()\n",
    "        i2=i2.detach().cpu().numpy()   \n",
    "\n",
    "        for fraud_ele in fraud_elem:\n",
    "            my_weight=np.squeeze(np.round(weights_np[fraud_ele],2))\n",
    "            in_elem=np.stack([np.squeeze(i2[fraud_ele]),np.squeeze(i1[fraud_ele])],axis=1)\n",
    "\n",
    "            atn_elem=np.where(my_weight>0.5)[0]\n",
    "            in_elem_j=in_elem[atn_elem]\n",
    "\n",
    "            print(in_elem_j)\n",
    "\n"
   ]
  },
  {
   "cell_type": "code",
   "execution_count": null,
   "metadata": {
    "collapsed": true
   },
   "outputs": [],
   "source": []
  }
 ],
 "metadata": {
  "kernelspec": {
   "display_name": "Python (pytorchenv)",
   "language": "python",
   "name": "pytorch"
  },
  "language_info": {
   "codemirror_mode": {
    "name": "ipython",
    "version": 3
   },
   "file_extension": ".py",
   "mimetype": "text/x-python",
   "name": "python",
   "nbconvert_exporter": "python",
   "pygments_lexer": "ipython3",
   "version": "3.6.3"
  }
 },
 "nbformat": 4,
 "nbformat_minor": 2
}
